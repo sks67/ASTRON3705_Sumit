{
 "metadata": {
  "name": ""
 },
 "nbformat": 3,
 "nbformat_minor": 0,
 "worksheets": [
  {
   "cells": [
    {
     "cell_type": "code",
     "collapsed": false,
     "input": [
      "%pylab inline\n",
      "import scipy.stats as stats"
     ],
     "language": "python",
     "metadata": {},
     "outputs": [
      {
       "output_type": "stream",
       "stream": "stdout",
       "text": [
        "Populating the interactive namespace from numpy and matplotlib\n"
       ]
      }
     ],
     "prompt_number": 2
    },
    {
     "cell_type": "heading",
     "level": 2,
     "metadata": {},
     "source": [
      "Problem 1)"
     ]
    },
    {
     "cell_type": "markdown",
     "metadata": {},
     "source": [
      "For a function $y = f(x_i)$, where $x_i$ are variables, the error in $y$ is defined as :-\n",
      "\n",
      "$\\sigma_y^2 = \\sum_i \\left|\\dfrac{\\partial{y}}{\\partial{x_i}}\\right|^2 \\sigma_{x_i}^2$\n",
      "\n",
      "The apparent magnitude is expressed in terms of observed flux as :-\n",
      "\n",
      "$m = 2.5 \\mathrm{log_{10}} \\left(\\dfrac{f_0}{f}\\right)$\n",
      "\n",
      "Using the derivative law above, and using the identity $\\mathrm{log_{10} f} = \\mathrm{ln} f/\\mathrm{ln} 10$, we get :-\n",
      "\n",
      "$\\sigma_m = \\dfrac{2.5}{\\mathrm{ln} 10} \\dfrac{\\sigma_f}{f} = 1.0875 \\dfrac{\\sigma_f}{f} $"
     ]
    },
    {
     "cell_type": "heading",
     "level": 2,
     "metadata": {},
     "source": [
      "Problem 2)"
     ]
    },
    {
     "cell_type": "code",
     "collapsed": false,
     "input": [
      "def bootstrap(nboot,data):\n",
      "    nboot = int(nboot)\n",
      "    hboot = np.random.choice(data,(nboot,len(data)))\n",
      "    return hboot\n",
      "\n",
      "def errors(qty): #Calculates t-distributed 95% CI's (which I treat as 'true errors') of flux and app. magnitude\n",
      "    n = qty.shape[1]\n",
      "    mean = np.mean(qty,axis=1)\n",
      "    cint_65 = stats.t.ppf(0.025,n-1)\n",
      "    serr = (cint_65*np.std(qty,axis=1,ddof=1))/np.sqrt(n)\n",
      "    return (mean,serr)"
     ],
     "language": "python",
     "metadata": {},
     "outputs": [],
     "prompt_number": 213
    },
    {
     "cell_type": "code",
     "collapsed": false,
     "input": [
      "fmean = 1.0e3\n",
      "fstd = np.array([1,50,100])\n",
      "\n",
      "#vertical limits on the plots\n",
      "ylims = [(991,1009),(900,1100),(880,1150)]\n",
      "magylims = [(2.49,2.51),(2.4,2.6),(2.3,2.7)]\n",
      "\n",
      "for fstd_ind,f_var in enumerate(fstd):\n",
      "    f = f_var*np.random.randn(10,12) + fmean\n",
      "    f0 = 1.0e4\n",
      "    m = 2.5*np.log10(f0/f)\n",
      "    trumeanf,truerrf = errors(f)\n",
      "    trumeanm,truerrm = errors(m)\n",
      "    properrm = (truerrf/trumeanf)*(2.5/np.log(10))\n",
      "    \n",
      "    errplusf = np.zeros(f.shape[0])\n",
      "    errminusf = np.zeros_like(errplusf)\n",
      "    meanf = np.zeros_like(errplusf)\n",
      "    errplusm = np.zeros(m.shape[0])\n",
      "    errminusm = np.zeros_like(errplusm)\n",
      "    meanm = np.zeros_like(errplusm)\n",
      "    for ind,fluxarray in enumerate(f):\n",
      "        bootflux = bootstrap(1.0e4,fluxarray)   #bootstrapped data sets\n",
      "        meanflux = np.mean(bootflux,axis=1) #mean and std of flux\n",
      "        ci95flux = np.percentile(meanflux,[2.5,97.5])  #95% bootstrapped CI\n",
      "        meanf[ind] = np.mean(meanflux)\n",
      "        errplusf[ind] = ci95flux[1]-meanf[ind]\n",
      "        errminusf[ind]= meanf[ind] - ci95flux[0]\n",
      "        bootmag = 2.5*np.log10(f0/bootflux) #app mag of bootstrapped fluxes \n",
      "        meanmag = np.mean(bootmag,axis=1)\n",
      "        ci95mag = np.percentile(meanmag,[2.5,97.5])\n",
      "        meanm[ind] = np.mean(meanmag)\n",
      "        errplusm[ind] = ci95mag[1]-meanm[ind]\n",
      "        errminusm[ind]= meanm[ind] - ci95mag[0]\n",
      "    \n",
      "    plt.figure(2*fstd_ind+1,figsize=(5,5))\n",
      "    plt.title('Variance = {}'.format(str(f_var)))\n",
      "    plt.errorbar(np.arange(f.shape[0])+1.0,meanf,yerr=(errplusf,errminusf),fmt = '.',color='r',ecolor='y',\\\n",
      "                 elinewidth=1.4,capsize=7,ms=11,label='Bootstrap')\n",
      "    \n",
      "    ebr = plt.errorbar(np.arange(f.shape[0])+1.0,trumeanf,yerr=truerrf,fmt = '.',color='k',ecolor='k',\\\n",
      "                       elinewidth=1.4,capsize=7,ms=11,label='St. Error')\n",
      "    ebr[-1][0].set_linestyle('--')\n",
      "    plt.xticks(np.arange(f.shape[0])+1.0)\n",
      "    plt.xlim(0.5,10.5)\n",
      "    plt.ylim(ylims[fstd_ind][0],ylims[fstd_ind][1])\n",
      "    plt.ylabel('Flux',fontsize=15)\n",
      "    plt.xlabel('Dataset #',fontsize=15)\n",
      "    plt.legend(numpoints=1,bbox_to_anchor=(1.37,1.0))\n",
      "    \n",
      "    plt.figure(2*fstd_ind+2,figsize=(5,5))\n",
      "    plt.title('Variance = {}'.format(str(f_var)))\n",
      "    plt.errorbar(np.arange(f.shape[0])+1.,meanm,yerr=(errplusm,errminusm),fmt = '.',color='r',ecolor='y',capsize=7,\\\n",
      "                 elinewidth=1.4,ms=11,label='Bootsrap')\n",
      "    ebr1 = plt.errorbar(np.arange(f.shape[0])+1.0,trumeanm,yerr=truerrm,fmt = '.',color='k',ecolor='k',capsize=7,\\\n",
      "                        elinewidth=1.4,ms=11,label='St. Error')\n",
      "    ebr1[-1][0].set_linestyle('--')\n",
      "    plt.errorbar(np.arange(f.shape[0])+1.2,trumeanm,yerr=properrm,fmt = '.',color='b',ecolor='b',capsize=3,\\\n",
      "                        elinewidth=1.2,ms=11,label='Error Propagation (datapoints\\ndisplaced to the right\\nfor comparison)')\n",
      "    plt.xticks(np.arange(f.shape[0])+1.0)\n",
      "    plt.xlim(0.5,10.5)\n",
      "    plt.ylim(magylims[fstd_ind][0],magylims[fstd_ind][1])\n",
      "    plt.ylabel(r'm ',fontsize=15)\n",
      "    plt.xlabel('Dataset #',fontsize=15)\n",
      "    plt.legend(numpoints=1,bbox_to_anchor=(1.73,1.0))\n",
      "    plt.show()\n"
     ],
     "language": "python",
     "metadata": {},
     "outputs": [
      {
       "ename": "NameError",
       "evalue": "name 'np' is not defined",
       "output_type": "pyerr",
       "traceback": [
        "\u001b[0;31m---------------------------------------------------------------------------\u001b[0m\n\u001b[0;31mNameError\u001b[0m                                 Traceback (most recent call last)",
        "\u001b[0;32m<ipython-input-1-22459eef4697>\u001b[0m in \u001b[0;36m<module>\u001b[0;34m()\u001b[0m\n\u001b[1;32m      1\u001b[0m \u001b[0mfmean\u001b[0m \u001b[0;34m=\u001b[0m \u001b[0;36m1.0e3\u001b[0m\u001b[0;34m\u001b[0m\u001b[0m\n\u001b[0;32m----> 2\u001b[0;31m \u001b[0mfstd\u001b[0m \u001b[0;34m=\u001b[0m \u001b[0mnp\u001b[0m\u001b[0;34m.\u001b[0m\u001b[0marray\u001b[0m\u001b[0;34m(\u001b[0m\u001b[0;34m[\u001b[0m\u001b[0;36m1\u001b[0m\u001b[0;34m,\u001b[0m\u001b[0;36m50\u001b[0m\u001b[0;34m,\u001b[0m\u001b[0;36m100\u001b[0m\u001b[0;34m]\u001b[0m\u001b[0;34m)\u001b[0m\u001b[0;34m\u001b[0m\u001b[0m\n\u001b[0m\u001b[1;32m      3\u001b[0m \u001b[0;34m\u001b[0m\u001b[0m\n\u001b[1;32m      4\u001b[0m \u001b[0;31m#vertical limits on the plots\u001b[0m\u001b[0;34m\u001b[0m\u001b[0;34m\u001b[0m\u001b[0m\n\u001b[1;32m      5\u001b[0m \u001b[0mylims\u001b[0m \u001b[0;34m=\u001b[0m \u001b[0;34m[\u001b[0m\u001b[0;34m(\u001b[0m\u001b[0;36m991\u001b[0m\u001b[0;34m,\u001b[0m\u001b[0;36m1009\u001b[0m\u001b[0;34m)\u001b[0m\u001b[0;34m,\u001b[0m\u001b[0;34m(\u001b[0m\u001b[0;36m900\u001b[0m\u001b[0;34m,\u001b[0m\u001b[0;36m1100\u001b[0m\u001b[0;34m)\u001b[0m\u001b[0;34m,\u001b[0m\u001b[0;34m(\u001b[0m\u001b[0;36m880\u001b[0m\u001b[0;34m,\u001b[0m\u001b[0;36m1150\u001b[0m\u001b[0;34m)\u001b[0m\u001b[0;34m]\u001b[0m\u001b[0;34m\u001b[0m\u001b[0m\n",
        "\u001b[0;31mNameError\u001b[0m: name 'np' is not defined"
       ]
      }
     ],
     "prompt_number": 1
    },
    {
     "cell_type": "heading",
     "level": 2,
     "metadata": {},
     "source": [
      "Problem 2C and 2D)"
     ]
    },
    {
     "cell_type": "markdown",
     "metadata": {},
     "source": [
      "\n",
      "__How well does the error propagation work?__\n",
      "\n",
      "For each $\\sigma_f (1,50,100)$, I have calculated 95% errorbars in m, using \n",
      "\n",
      "(*) Bootstrapping (errorbars in yellow) \n",
      "\n",
      "(*) Standard errors of the original (10,12) distribution of $m$ calculated from $f$ (errorbars in black) and \n",
      "\n",
      "(*) Error-propagation (shown in blue and slightly _displaced to the right_ for each dataset for comparison)\n",
      "\n",
      "For the distribution of m, the errorbars agree well with the actual standard errors for all values of $\\sigma_f$\n",
      "\n",
      "__Comparison between Bootstrapped and True Confidence Intervals__\n",
      "\n",
      "The bootstrapped 95% Confidence intervals are slightly smaller than the true 95% standard errors estimated directly from the data. This agrees with the IDL simulation shown in class. For more data sets, perhaps the bootstrap errors will agree with the true errors.\n",
      "\n",
      "__How symmetric are Confidence Intervals around__ $<f>$ __and__ $<m>$? \n",
      "\n",
      "The bootstrapped confidence intervals are not symmetric about the means. In the next codebox, I calculate the $\\pm$ errors from the 2.5 and 97.5 percentiles of bootstrapped flux for mean = 1000 and variance = 50."
     ]
    },
    {
     "cell_type": "code",
     "collapsed": false,
     "input": [
      "f = 50.0*np.random.randn(10,12) + fmean\n",
      "print '  Err Minus\\t\\t Err Plus\\n'\n",
      "for ind,fluxarray in enumerate(f):\n",
      "    bootflux = bootstrap(1.0e4,fluxarray)   #bootstrapped data set # 1\n",
      "    meanflux = np.mean(bootflux,axis=1) #mean and std of flux\n",
      "    ci95flux = np.percentile(meanflux,[2.5,97.5])  #95% bootstrapped CI\n",
      "    print (np.mean(meanflux)-ci95flux[0],ci95flux[1]-np.mean(meanflux))"
     ],
     "language": "python",
     "metadata": {},
     "outputs": [
      {
       "output_type": "stream",
       "stream": "stdout",
       "text": [
        "  Err Minus\t\t Err Plus\n",
        "\n",
        "(26.251595950722162, 28.451322908366024)\n",
        "(34.266258496786577, 43.170770958018352)\n",
        "(28.080651574131139, 25.832745065237987)\n",
        "(23.292667361106169, 22.400689040850921)\n",
        "(31.952592641747856, 31.202346075877472)\n",
        "(19.811298133701484, 20.59487928796807)\n",
        "(29.534097577200555, 28.330445828738902)\n",
        "(26.894354166449716, 24.500778954390398)\n",
        "(21.721031672612071, 23.526285419169085)\n",
        "(36.97507858613676, 30.418238231619171)\n"
       ]
      }
     ],
     "prompt_number": 264
    },
    {
     "cell_type": "code",
     "collapsed": false,
     "input": [],
     "language": "python",
     "metadata": {},
     "outputs": []
    }
   ],
   "metadata": {}
  }
 ]
}