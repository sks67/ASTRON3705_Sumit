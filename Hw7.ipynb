{
 "metadata": {
  "name": ""
 },
 "nbformat": 3,
 "nbformat_minor": 0,
 "worksheets": [
  {
   "cells": [
    {
     "cell_type": "code",
     "collapsed": false,
     "input": [
      "%pylab inline"
     ],
     "language": "python",
     "metadata": {},
     "outputs": [
      {
       "output_type": "stream",
       "stream": "stdout",
       "text": [
        "Populating the interactive namespace from numpy and matplotlib\n"
       ]
      }
     ],
     "prompt_number": 2
    },
    {
     "cell_type": "heading",
     "level": 2,
     "metadata": {},
     "source": [
      "Problem 1"
     ]
    },
    {
     "cell_type": "markdown",
     "metadata": {},
     "source": [
      "Assume PSF is in the form of 2D Gaussian: $p(x,y) = \\dfrac{1}{2 \\pi \\sigma^2} \\mathrm{exp}\\left[-\\dfrac{(x^2 + y^2)}{2 \\sigma^2}\\right]$, where I assume both x and y have the same variance, centered on (0,0) and are independent of each other.\n",
      "\n",
      "Also FWHM $= 2.35 \\sigma$, so $\\sigma = 1/2.35$ arcsecs"
     ]
    },
    {
     "cell_type": "code",
     "collapsed": false,
     "input": [
      "import scipy.integrate as integ\n",
      "sigma = 1.0/2.35 #arcsec\n",
      "def psf(x,y): \n",
      "    return (1.0/(2.0*np.pi*sigma**2))*np.exp(-(x**2 + y**2)/(2.0*sigma**2))\n",
      "\n",
      "r = np.linspace(0,2,100)\n",
      "frac = np.zeros_like(r)\n",
      "for ind,ri in enumerate(r):\n",
      "    y,err = integ.nquad(psf,[[-ri,ri],[-ri,ri]])\n",
      "    frac[ind] = y\n",
      "\n",
      "plt.plot(r,frac,'r-')\n",
      "plt.axvline(1.0,ls='--',label='FWHM')\n",
      "plt.ylabel('Fraction',fontsize=15)\n",
      "plt.xlabel(r'$r$ [\" from center]',fontsize=15)\n",
      "#plt.yscale('log')\n",
      "plt.ylim(0.01,1.1)\n",
      "plt.legend(loc=2,frameon=False)\n",
      "plt.show()"
     ],
     "language": "python",
     "metadata": {},
     "outputs": [
      {
       "metadata": {},
       "output_type": "display_data",
       "png": "[encoded data removed]",
       "text": [
        "<matplotlib.figure.Figure at 0x10c44db90>"
       ]
      }
     ],
     "prompt_number": 114
    },
    {
     "cell_type": "heading",
     "level": 2,
     "metadata": {},
     "source": [
      "Problem 2"
     ]
    },
    {
     "cell_type": "markdown",
     "metadata": {},
     "source": [
      "Signal $(S) = N_{obj} = f_{obj} t_{obs} f_{PSF}$, where $f_{PSF}$ is the PSF-limited signal\n",
      "\n",
      "Noise $(N) = \\sqrt{N_{obj} + N_{sky} + n_{pix} \\sigma_{read}^2}$\n",
      "\n",
      "where background noise (sky) is $N_{sky} = f_{sky} A_{ap} t_{obs}$, ($A_{ap}$ is aperture area $= 1$ sq arcsec), and number of pixels in the aperture, $n_{pix}$ (assuming aperture to be a circle) is $\\sim A_{ap}/A_{pix}$\n",
      "\n",
      "If we assume the total observing time ($T$) is split into $n_{frame}$ frames, then the observing time per frame, given the frame readout time being 3 mins is :-\n",
      "\n",
      "$t_{obs} = \\dfrac{T - 3n_{frame}}{n_{frame}}$ in minutes\n",
      "\n",
      "The total signal to noise ratio then is :-\n",
      "\n",
      "$\\left|S/N\\right|_{tot}= \\dfrac{\\sum_{i=1}^{n_{frame}} S_i}{\\sum_{i=1}^{n_{frame}} \\sqrt{N_i}} = \\sqrt{n_{frame}} S/N $"
     ]
    },
    {
     "cell_type": "code",
     "collapsed": false,
     "input": [
      "def sig2noise(nframe,tot_time):\n",
      "    tot_time = tot_time*60.0  #convert to mins\n",
      "    t_obs = (tot_time - (3*nframe))/nframe   #observing time per frame in mins\n",
      "    \n",
      "    t_obj = t_obs/60.0 #hour\n",
      "    obs_size = 1.0 #arcsec\n",
      "    pix_size = 0.25 #arcsec\n",
      "\n",
      "    f_obj = 1000.0 #per hour\n",
      "    f_sky = 50 #per second per sq. arcsec\n",
      "\n",
      "    frac_1asec,err = integ.nquad(psf,[[-1,1],[-1,1]])  #Fraction of light from Prob 1\n",
      "\n",
      "    sigread = 5\n",
      "    nobj = f_obj*t_obj*frac_1asec   #Signal\n",
      "    npix = np.floor((np.pi*obs_size*obs_size)/(pix_size*pix_size))  \n",
      "    #I assume aperture to be round, pixels square\n",
      "    nsky = f_sky*(np.pi*obs_size*obs_size)*t_obj*3600.  #total electrons received from sky in t_obs\n",
      "\n",
      "#print nobj, nsky, npix*sigread**2\n",
      "    \n",
      "    return np.sqrt(nframe)*(nobj/np.sqrt(nobj+nsky+(npix*sigread**2)))\n",
      "\n",
      "totaltime = 1.0 #hrs\n",
      "print 'S/N for 1 frame for %.i hrs = '%(totaltime),sig2noise(1.0,totaltime)\n",
      "print 'S/N for 2 frame for %.i hrs = '%(totaltime),sig2noise(2.0,totaltime)\n",
      "print 'S/N for 3 frames for %.i hrs = '%(totaltime),sig2noise(3.0,totaltime)\n",
      "print 'S/N for 4 frames for %.i hrs = '%(totaltime),sig2noise(4.0,totaltime)\n",
      "\n"
     ],
     "language": "python",
     "metadata": {},
     "outputs": [
      {
       "output_type": "stream",
       "stream": "stdout",
       "text": [
        "S/N for 1 frame for 1 hrs =  1.2454204884\n",
        "S/N for 2 frame for 1 hrs =  1.21064559287\n",
        "S/N for 3 frames for 1 hrs =  1.17485101834\n",
        "S/N for 4 frames for 1 hrs =  1.13794222794\n"
       ]
      }
     ],
     "prompt_number": 109
    },
    {
     "cell_type": "heading",
     "level": 2,
     "metadata": {},
     "source": [
      "Problem 3"
     ]
    },
    {
     "cell_type": "code",
     "collapsed": false,
     "input": [
      "import scipy.interpolate as interp\n",
      "\n",
      "totaltime = np.linspace(1.0,100.0,10000)\n",
      "s2n = np.zeros_like(totaltime)\n",
      "for ind,time in enumerate(totaltime):\n",
      "    s2n[ind]=sig2noise(3.0,time)"
     ],
     "language": "python",
     "metadata": {},
     "outputs": [],
     "prompt_number": 111
    },
    {
     "cell_type": "code",
     "collapsed": false,
     "input": [
      "f = interp.interp1d(s2n,totaltime)\n",
      "print 'Observing Time to get S/N=10 with 3 frames, 1 arcsec aperture: ',f(10.0), 'hrs'\n",
      "plt.plot(totaltime,s2n,'r-',f(10.0),10.0,'bo')\n",
      "ax = plt.gca()\n",
      "ax.annotate(\"\",xy=(f(10.0),0.),xytext=(f(10.0),10.0),arrowprops=dict(arrowstyle='->'))\n",
      "plt.xlabel('Observing Time [hrs]',fontsize=15)\n",
      "plt.ylabel('S/N',fontsize=15)\n",
      "plt.axhline(y=10,ls='--')\n",
      "\n",
      "plt.show()"
     ],
     "language": "python",
     "metadata": {},
     "outputs": [
      {
       "output_type": "stream",
       "stream": "stdout",
       "text": [
        "Observing Time to get S/N=10 with 3 frames, 1 arcsec aperture:  61.2626332185 hrs\n"
       ]
      },
      {
       "metadata": {},
       "output_type": "display_data",
       "png": "[encoded data removed]",
       "text": [
        "<matplotlib.figure.Figure at 0x10c445cd0>"
       ]
      }
     ],
     "prompt_number": 112
    },
    {
     "cell_type": "code",
     "collapsed": false,
     "input": [],
     "language": "python",
     "metadata": {},
     "outputs": []
    }
   ],
   "metadata": {}
  }
 ]
}