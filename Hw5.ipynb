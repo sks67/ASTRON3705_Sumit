{
 "metadata": {
  "name": ""
 },
 "nbformat": 3,
 "nbformat_minor": 0,
 "worksheets": [
  {
   "cells": [
    {
     "cell_type": "code",
     "collapsed": false,
     "input": [
      "%pylab inline\n",
      "import scipy.stats as stats"
     ],
     "language": "python",
     "metadata": {},
     "outputs": [
      {
       "output_type": "stream",
       "stream": "stdout",
       "text": [
        "Populating the interactive namespace from numpy and matplotlib\n"
       ]
      }
     ],
     "prompt_number": 6
    },
    {
     "cell_type": "heading",
     "level": 2,
     "metadata": {},
     "source": [
      "Problem 1a)"
     ]
    },
    {
     "cell_type": "code",
     "collapsed": false,
     "input": [
      "h8s = np.loadtxt('heights.txt')\n",
      "n = h8s.size\n",
      "meanh8 = np.mean(h8s)\n",
      "stdh8 = np.std(h8s,ddof=1)/np.sqrt(n)\n",
      "\n",
      "cints_68 = (stats.t.ppf(0.1587,n-1),stats.t.ppf(0.8413,n-1))\n",
      "cints_95 = (stats.t.ppf(0.025,n-1),stats.t.ppf(0.975,n-1))\n",
      "cints_99 = (stats.t.ppf(0.005,n-1),stats.t.ppf(0.995,n-1))\n",
      "\n",
      "print 'HEIGHTS OF US PEOPLE \\n'\n",
      "print '68% C.I : ',(meanh8+cints_68[0]*stdh8,meanh8+cints_68[1]*stdh8), 'cm'\n",
      "print '95% C.I : ',(meanh8+cints_95[0]*stdh8,meanh8+cints_95[1]*stdh8), 'cm'\n",
      "print '99% C.I : ',(meanh8+cints_99[0]*stdh8,meanh8+cints_99[1]*stdh8), 'cm'"
     ],
     "language": "python",
     "metadata": {},
     "outputs": [
      {
       "output_type": "stream",
       "stream": "stdout",
       "text": [
        "HEIGHTS OF US PEOPLE \n",
        "\n",
        "68% C.I :  (172.75837567690041, 176.01085509233036) cm\n",
        "95% C.I :  (170.98819609971264, 177.78103466951814) cm\n",
        "99% C.I :  (169.62307872433746, 179.14615204489331) cm\n"
       ]
      }
     ],
     "prompt_number": 28
    },
    {
     "cell_type": "markdown",
     "metadata": {},
     "source": [
      "The confidence intervals are (m-a*s,m+a*s) cm, where 'a' is calculated using stats.t.ppf(), and $s = \\sigma_s/\\sqrt{n}$ - the standard error of our heights, and $\\sigma_s$ is the unbiased estimator of the true standard deviation of the US Height distribution.\n",
      "\n",
      "The 68% C.I. means we can conclude, based on the data, that the true mean height of US people should lie in the range (172.75 cm, 176 cm) with 68% confidence. In other words, there's a 68% probability that the true Mean Height of the US people fall in the Range (172.75 cm, 176 cm).\n",
      "\n",
      "Similar interpretation holds for 95% and 99% confidence intervals."
     ]
    },
    {
     "cell_type": "heading",
     "level": 2,
     "metadata": {},
     "source": [
      "Problem 1b)"
     ]
    },
    {
     "cell_type": "markdown",
     "metadata": {},
     "source": [
      "Mean Height of US People = 170 cm.\n",
      "\n",
      "This does not fall in the 68% and 95% regions. So we can reject the hypothesis that the sample distribution of heights in our class represents the True US Height Distribution at a 68% and 95% level of significance.\n",
      "\n"
     ]
    },
    {
     "cell_type": "markdown",
     "metadata": {},
     "source": [
      "However, we cannot reject the same hypothesis at a 99% level, since 170 cm falls in the range (169.62 cm, 179.15 cm)."
     ]
    },
    {
     "cell_type": "code",
     "collapsed": false,
     "input": [],
     "language": "python",
     "metadata": {},
     "outputs": []
    }
   ],
   "metadata": {}
  }
 ]
}